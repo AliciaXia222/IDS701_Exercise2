{
  "cells": [
    {
      "cell_type": "markdown",
      "metadata": {
        "id": "Q0DykLbMZ07x"
      },
      "source": [
        "# Interpretable Modelling of Credit Risk\n",
        "\n",
        "As detailed in Cynthia Rudin's excellent commentary on interpretability [(ArXiV version here)](https://arxiv.org/abs/1811.10154), there are a plethora of reasons to avoid the use of black box models when models are being used to make high stakes decisions to may have life-altering effects on real people. Efforts to develop \"explainable black box models,\" while appealing for their potential to let us continuing using the same tools we always have and to creation explanations after the fact, are inherently flawed. As Rudin notes in my single favorite passage from her paper:\n",
        "\n",
        "> Explainable ML methods provide explanations that are not faithful to what the original model computes. Explanations must be wrong. They cannot have perfect fidelity with respect to the original model. If the explanation was completely faithful to what the original model computes, the explanation would equal the original model, and one would not need the original model in the first place, only the explanation. (In other words, this is a case where the original model would be interpretable.) This leads to the danger that any explanation method for a black box model can be an inaccurate representation of the original model in parts of the feature space.\n",
        ">\n",
        "> An inaccurate (low-fidelity) explanation model limits trust in the explanation, and by extension, trust in the black box that it is trying to explain. An explainable model that has a 90% agreement with the original model indeed explains the original model most of the time. However, an explanation model that is correct 90% of the time is wrong 10% of the time. If a tenth of the explanations are incorrect, one cannot trust the explanations, and thus one cannot trust the original black box. If we cannot know for certain whether our explanation is correct, we cannot know whether to trust either the explanation or the original model.\n",
        "\n",
        "With this motivation in mind, in this exercise, we will use a cutting edge interpretable modeling framework to model credit risk using data from the [14th Pacific-Asia Knowledge Discovery and Data Mining conference (PAKDD 2010)](https://pakdd.org/archive/pakdd2010/). This data covers the period of 2006 to 2009, and \"comes from a private label credit card operation of a Brazilian credit company and its partner shops.\" (The competition was won by [TIMi](https://timi.eu/blog/news/timi-top-winner-at-the-pakdd-2010-cup/), who purely by coincidence helped me complete my PhD dissertation research!).\n",
        "\n",
        "We will be working with Generalized Additive Models (GAMs) (not to be confused with Generalized *Linear* Models (GLMs) — GLMs are a special case of GAMs). In particular, we will be using the [pyGAM](https://pygam.readthedocs.io/en/latest/notebooks/tour_of_pygam.html), though this is far from the only GAM implementation out there. [mvgam](https://nicholasjclark.github.io/mvgam/) in R is probably considered the gold standard, as it was developed by a pioneering researcher of GAMs. `statsmodels` also has [an implementation](https://www.statsmodels.org/stable/gam.html), and GAM is also hiding in plain sight behind many other tools, like Meta's [Prophet](https://facebook.github.io/prophet/) time series forecasting library (which is GAM-based)."
      ]
    },
    {
      "cell_type": "markdown",
      "metadata": {},
      "source": [
        "## Data Prep\n",
        "\n",
        "### Exercise 1\n",
        "\n",
        "The PADD 2010 data is in [this repository](https://github.com/nickeubank/MIDS_Data/tree/master/PAKDD%202010). You can find column names in `PAKDD2010_VariablesList.XLS` and the actual data in `PAKDD2010_Modeling_Data.txt`.\n",
        "\n",
        "Note: you may run into a string-encoding issue loading the `PAKDD2010_Modeling_Data.txt` data. All I'll say is that most latin-based languages used `latin8` as a text encoding prior to broad adoption of UTF-8. (Don't know about UTF? [Check out this video](https://www.youtube.com/watch?v=MijmeoH9LT4)!)\n",
        "\n",
        "Load the data (including column names)."
      ]
    },
    {
      "cell_type": "code",
      "execution_count": 1,
      "metadata": {},
      "outputs": [],
      "source": [
        "import pandas as pd\n",
        "import numpy as np\n",
        "import warnings\n",
        "\n",
        "warnings.filterwarnings(\"ignore\")\n",
        "pd.set_option(\"mode.copy_on_write\", True)\n",
        "\n",
        "# uuploading columns\n",
        "\n",
        "metadata = pd.read_excel(\n",
        "    \"https://github.com/nickeubank/MIDS_Data/raw/master/PAKDD%202010/PAKDD2010_VariablesList.XLS\"\n",
        ")\n",
        "\n",
        "columns = metadata[\"Var_Title\"]\n",
        "\n",
        "columns[columns == \"EDUCATION_LEVEL\"]\n",
        "\n",
        "columns[43] = \"EDUCATION_LEVEL_MATE\"\n",
        "\n",
        "# load the PAKDD2010 dataset\n",
        "data = pd.read_csv(\n",
        "    \"https://media.githubusercontent.com/media/nickeubank/MIDS_Data/master/PAKDD%202010/PAKDD2010_Modeling_Data.txt\",\n",
        "    header=None,\n",
        "    delimiter=\"\\t\",\n",
        "    encoding=\"latin1\",\n",
        "    names=columns,\n",
        ")"
      ]
    },
    {
      "cell_type": "markdown",
      "metadata": {},
      "source": [
        "### Exercise 2\n",
        "\n",
        "There are a few variables with a lot of missing values (more than half missing). Given the limited documentation for this data it's a little hard to be sure why, but given the effect on sample size and what variables are missing, let's go ahead and drop them. You you end up dropping 6 variables.\n",
        "\n",
        "Hint: Some variables have missing values that aren't immediately obviously.\n",
        "\n",
        "(This is not strictly necessary at this stage, given we'll be doing more feature selection down the line, but keeps things easier knowing we don't have to worry about missingness later.)"
      ]
    },
    {
      "cell_type": "code",
      "execution_count": 2,
      "metadata": {},
      "outputs": [],
      "source": [
        "missing_values = data.isnull().sum()\n",
        "\n",
        "missing_values[missing_values > 0]\n",
        "\n",
        "variables_w_nan = list(\n",
        "    missing_values[missing_values > 0].sort_values(ascending=False).index\n",
        ")\n",
        "variables_w_nan.remove(\"OCCUPATION_TYPE\")\n",
        "variables_w_nan.remove(\"MONTHS_IN_RESIDENCE\")\n",
        "variables_w_nan.remove(\"RESIDENCE_TYPE\")\n",
        "variables_w_nan = variables_w_nan[:6]"
      ]
    },
    {
      "cell_type": "code",
      "execution_count": 3,
      "metadata": {},
      "outputs": [],
      "source": [
        "# variables to drop\n",
        "to_drop = variables_w_nan\n",
        "\n",
        "data.drop(columns=to_drop, inplace=True)"
      ]
    },
    {
      "cell_type": "markdown",
      "metadata": {},
      "source": [
        "### Exercise 3\n",
        "\n",
        "Let's start off by fitting a model that uses the following variables:\n",
        "\n",
        "```\n",
        "\"QUANT_DEPENDANTS\",\n",
        "\"QUANT_CARS\",\n",
        "\"MONTHS_IN_RESIDENCE\",\n",
        "\"PERSONAL_MONTHLY_INCOME\",\n",
        "\"QUANT_BANKING_ACCOUNTS\",\n",
        "\"AGE\",\n",
        "\"SEX\",\n",
        "\"MARITAL_STATUS\",\n",
        "\"OCCUPATION_TYPE\",\n",
        "\"RESIDENCE_TYPE\",\n",
        "\"RESIDENCIAL_STATE\",\n",
        "\"RESIDENCIAL_CITY\",\n",
        "\"RESIDENCIAL_BOROUGH\",\n",
        "\"RESIDENCIAL_ZIP_3\"\n",
        "```\n",
        "\n",
        "(GAMs don't have any automatic feature selection methods, so these are based on my own sense of features that are likely to matter. A fully analysis would entail a few passes at feature refinement)\n",
        "\n",
        "Plot and otherwise characterize the distributions of all the variables we may use. If you see anything bananas, adjust how terms enter your model. Yes, pyGAM has flexible functional forms, but giving the model features that are engineered to be more substantively meaningful (e.g., taking log of income) will aid model estimation. \n",
        "\n",
        "You should probably do something about the functional form of *at least* `PERSONAL_MONTHLY_INCOME`, and `QUANT_DEPENDANTS`."
      ]
    },
    {
      "cell_type": "code",
      "execution_count": 4,
      "metadata": {},
      "outputs": [
        {
          "data": {
            "text/html": [
              "<div>\n",
              "<style scoped>\n",
              "    .dataframe tbody tr th:only-of-type {\n",
              "        vertical-align: middle;\n",
              "    }\n",
              "\n",
              "    .dataframe tbody tr th {\n",
              "        vertical-align: top;\n",
              "    }\n",
              "\n",
              "    .dataframe thead th {\n",
              "        text-align: right;\n",
              "    }\n",
              "</style>\n",
              "<table border=\"1\" class=\"dataframe\">\n",
              "  <thead>\n",
              "    <tr style=\"text-align: right;\">\n",
              "      <th></th>\n",
              "      <th>QUANT_DEPENDANTS</th>\n",
              "      <th>QUANT_CARS</th>\n",
              "      <th>MONTHS_IN_RESIDENCE</th>\n",
              "      <th>PERSONAL_MONTHLY_INCOME</th>\n",
              "      <th>QUANT_BANKING_ACCOUNTS</th>\n",
              "      <th>AGE</th>\n",
              "      <th>MARITAL_STATUS</th>\n",
              "      <th>OCCUPATION_TYPE</th>\n",
              "      <th>RESIDENCE_TYPE</th>\n",
              "    </tr>\n",
              "  </thead>\n",
              "  <tbody>\n",
              "    <tr>\n",
              "      <th>count</th>\n",
              "      <td>50000.000000</td>\n",
              "      <td>50000.000000</td>\n",
              "      <td>46223.000000</td>\n",
              "      <td>50000.000000</td>\n",
              "      <td>50000.000000</td>\n",
              "      <td>50000.00000</td>\n",
              "      <td>50000.00000</td>\n",
              "      <td>42687.000000</td>\n",
              "      <td>48651.000000</td>\n",
              "    </tr>\n",
              "    <tr>\n",
              "      <th>mean</th>\n",
              "      <td>0.650520</td>\n",
              "      <td>0.336140</td>\n",
              "      <td>9.727149</td>\n",
              "      <td>886.678437</td>\n",
              "      <td>0.357840</td>\n",
              "      <td>43.24852</td>\n",
              "      <td>2.14840</td>\n",
              "      <td>2.484316</td>\n",
              "      <td>1.252225</td>\n",
              "    </tr>\n",
              "    <tr>\n",
              "      <th>std</th>\n",
              "      <td>1.193655</td>\n",
              "      <td>0.472392</td>\n",
              "      <td>10.668841</td>\n",
              "      <td>7846.959327</td>\n",
              "      <td>0.479953</td>\n",
              "      <td>14.98905</td>\n",
              "      <td>1.32285</td>\n",
              "      <td>1.532261</td>\n",
              "      <td>0.867833</td>\n",
              "    </tr>\n",
              "    <tr>\n",
              "      <th>min</th>\n",
              "      <td>0.000000</td>\n",
              "      <td>0.000000</td>\n",
              "      <td>0.000000</td>\n",
              "      <td>60.000000</td>\n",
              "      <td>0.000000</td>\n",
              "      <td>6.00000</td>\n",
              "      <td>0.00000</td>\n",
              "      <td>0.000000</td>\n",
              "      <td>0.000000</td>\n",
              "    </tr>\n",
              "    <tr>\n",
              "      <th>25%</th>\n",
              "      <td>0.000000</td>\n",
              "      <td>0.000000</td>\n",
              "      <td>1.000000</td>\n",
              "      <td>360.000000</td>\n",
              "      <td>0.000000</td>\n",
              "      <td>31.00000</td>\n",
              "      <td>1.00000</td>\n",
              "      <td>1.000000</td>\n",
              "      <td>1.000000</td>\n",
              "    </tr>\n",
              "    <tr>\n",
              "      <th>50%</th>\n",
              "      <td>0.000000</td>\n",
              "      <td>0.000000</td>\n",
              "      <td>6.000000</td>\n",
              "      <td>500.000000</td>\n",
              "      <td>0.000000</td>\n",
              "      <td>41.00000</td>\n",
              "      <td>2.00000</td>\n",
              "      <td>2.000000</td>\n",
              "      <td>1.000000</td>\n",
              "    </tr>\n",
              "    <tr>\n",
              "      <th>75%</th>\n",
              "      <td>1.000000</td>\n",
              "      <td>1.000000</td>\n",
              "      <td>15.000000</td>\n",
              "      <td>800.000000</td>\n",
              "      <td>1.000000</td>\n",
              "      <td>53.00000</td>\n",
              "      <td>2.00000</td>\n",
              "      <td>4.000000</td>\n",
              "      <td>1.000000</td>\n",
              "    </tr>\n",
              "    <tr>\n",
              "      <th>max</th>\n",
              "      <td>53.000000</td>\n",
              "      <td>1.000000</td>\n",
              "      <td>228.000000</td>\n",
              "      <td>959000.000000</td>\n",
              "      <td>2.000000</td>\n",
              "      <td>106.00000</td>\n",
              "      <td>7.00000</td>\n",
              "      <td>5.000000</td>\n",
              "      <td>5.000000</td>\n",
              "    </tr>\n",
              "  </tbody>\n",
              "</table>\n",
              "</div>"
            ],
            "text/plain": [
              "       QUANT_DEPENDANTS    QUANT_CARS  MONTHS_IN_RESIDENCE  \\\n",
              "count      50000.000000  50000.000000         46223.000000   \n",
              "mean           0.650520      0.336140             9.727149   \n",
              "std            1.193655      0.472392            10.668841   \n",
              "min            0.000000      0.000000             0.000000   \n",
              "25%            0.000000      0.000000             1.000000   \n",
              "50%            0.000000      0.000000             6.000000   \n",
              "75%            1.000000      1.000000            15.000000   \n",
              "max           53.000000      1.000000           228.000000   \n",
              "\n",
              "       PERSONAL_MONTHLY_INCOME  QUANT_BANKING_ACCOUNTS          AGE  \\\n",
              "count             50000.000000            50000.000000  50000.00000   \n",
              "mean                886.678437                0.357840     43.24852   \n",
              "std                7846.959327                0.479953     14.98905   \n",
              "min                  60.000000                0.000000      6.00000   \n",
              "25%                 360.000000                0.000000     31.00000   \n",
              "50%                 500.000000                0.000000     41.00000   \n",
              "75%                 800.000000                1.000000     53.00000   \n",
              "max              959000.000000                2.000000    106.00000   \n",
              "\n",
              "       MARITAL_STATUS  OCCUPATION_TYPE  RESIDENCE_TYPE  \n",
              "count     50000.00000     42687.000000    48651.000000  \n",
              "mean          2.14840         2.484316        1.252225  \n",
              "std           1.32285         1.532261        0.867833  \n",
              "min           0.00000         0.000000        0.000000  \n",
              "25%           1.00000         1.000000        1.000000  \n",
              "50%           2.00000         2.000000        1.000000  \n",
              "75%           2.00000         4.000000        1.000000  \n",
              "max           7.00000         5.000000        5.000000  "
            ]
          },
          "execution_count": 4,
          "metadata": {},
          "output_type": "execute_result"
        }
      ],
      "source": [
        "variables = [\n",
        "    \"QUANT_DEPENDANTS\",\n",
        "    \"QUANT_CARS\",\n",
        "    \"MONTHS_IN_RESIDENCE\",\n",
        "    \"PERSONAL_MONTHLY_INCOME\",\n",
        "    \"QUANT_BANKING_ACCOUNTS\",\n",
        "    \"AGE\",\n",
        "    \"SEX\",\n",
        "    \"MARITAL_STATUS\",\n",
        "    \"OCCUPATION_TYPE\",\n",
        "    \"RESIDENCE_TYPE\",\n",
        "    \"RESIDENCIAL_STATE\",\n",
        "    \"RESIDENCIAL_CITY\",\n",
        "    \"RESIDENCIAL_BOROUGH\",\n",
        "    \"RESIDENCIAL_ZIP_3\",\n",
        "]\n",
        "\n",
        "data[variables].describe()"
      ]
    },
    {
      "cell_type": "code",
      "execution_count": 5,
      "metadata": {},
      "outputs": [
        {
          "name": "stdout",
          "output_type": "stream",
          "text": [
            "(50000, 49)\n"
          ]
        },
        {
          "data": {
            "text/plain": [
              "1"
            ]
          },
          "execution_count": 5,
          "metadata": {},
          "output_type": "execute_result"
        }
      ],
      "source": [
        "print(data.shape)\n",
        "\n",
        "np.sum(data[\"QUANT_DEPENDANTS\"] > 20)"
      ]
    },
    {
      "cell_type": "markdown",
      "metadata": {},
      "source": [
        "```Two variables arose concerns, first QUANT_DEPENDANTS, with a grat outlier with 53 dependants and income, a variable highly right skewed. Thus a transformation to logs is necessary in both cases.```"
      ]
    },
    {
      "cell_type": "code",
      "execution_count": 6,
      "metadata": {},
      "outputs": [],
      "source": [
        "data[\"log_quant_dependants\"] = np.log(data[\"QUANT_DEPENDANTS\"] + 1e-10)\n",
        "variables.append(\"log_quant_dependants\")\n",
        "variables.remove(\"QUANT_DEPENDANTS\")"
      ]
    },
    {
      "cell_type": "code",
      "execution_count": 7,
      "metadata": {},
      "outputs": [],
      "source": [
        "data[\"log_personal_monthly_income\"] = np.log(data[\"PERSONAL_MONTHLY_INCOME\"] + 1e-10)\n",
        "variables.append(\"log_personal_monthly_income\")\n",
        "variables.remove(\"PERSONAL_MONTHLY_INCOME\")"
      ]
    },
    {
      "cell_type": "code",
      "execution_count": 8,
      "metadata": {},
      "outputs": [
        {
          "data": {
            "text/plain": [
              "['QUANT_CARS',\n",
              " 'MONTHS_IN_RESIDENCE',\n",
              " 'QUANT_BANKING_ACCOUNTS',\n",
              " 'AGE',\n",
              " 'SEX',\n",
              " 'MARITAL_STATUS',\n",
              " 'OCCUPATION_TYPE',\n",
              " 'RESIDENCE_TYPE',\n",
              " 'RESIDENCIAL_STATE',\n",
              " 'RESIDENCIAL_CITY',\n",
              " 'RESIDENCIAL_BOROUGH',\n",
              " 'RESIDENCIAL_ZIP_3',\n",
              " 'log_quant_dependants',\n",
              " 'log_personal_monthly_income']"
            ]
          },
          "execution_count": 8,
          "metadata": {},
          "output_type": "execute_result"
        }
      ],
      "source": [
        "variables"
      ]
    },
    {
      "cell_type": "code",
      "execution_count": 9,
      "metadata": {},
      "outputs": [
        {
          "data": {
            "text/html": [
              "<div>\n",
              "<style scoped>\n",
              "    .dataframe tbody tr th:only-of-type {\n",
              "        vertical-align: middle;\n",
              "    }\n",
              "\n",
              "    .dataframe tbody tr th {\n",
              "        vertical-align: top;\n",
              "    }\n",
              "\n",
              "    .dataframe thead th {\n",
              "        text-align: right;\n",
              "    }\n",
              "</style>\n",
              "<table border=\"1\" class=\"dataframe\">\n",
              "  <thead>\n",
              "    <tr style=\"text-align: right;\">\n",
              "      <th></th>\n",
              "      <th>ID_CLIENT</th>\n",
              "      <th>CLERK_TYPE</th>\n",
              "      <th>PAYMENT_DAY</th>\n",
              "      <th>APPLICATION_SUBMISSION_TYPE</th>\n",
              "      <th>QUANT_ADDITIONAL_CARDS</th>\n",
              "      <th>POSTAL_ADDRESS_TYPE</th>\n",
              "      <th>SEX</th>\n",
              "      <th>MARITAL_STATUS</th>\n",
              "      <th>QUANT_DEPENDANTS</th>\n",
              "      <th>EDUCATION_LEVEL</th>\n",
              "      <th>...</th>\n",
              "      <th>FLAG_CPF</th>\n",
              "      <th>FLAG_INCOME_PROOF</th>\n",
              "      <th>PRODUCT</th>\n",
              "      <th>FLAG_ACSP_RECORD</th>\n",
              "      <th>AGE</th>\n",
              "      <th>RESIDENCIAL_ZIP_3</th>\n",
              "      <th>PROFESSIONAL_ZIP_3</th>\n",
              "      <th>TARGET_LABEL_BAD=1</th>\n",
              "      <th>log_quant_dependants</th>\n",
              "      <th>log_personal_monthly_income</th>\n",
              "    </tr>\n",
              "  </thead>\n",
              "  <tbody>\n",
              "    <tr>\n",
              "      <th>0</th>\n",
              "      <td>1</td>\n",
              "      <td>C</td>\n",
              "      <td>5</td>\n",
              "      <td>Web</td>\n",
              "      <td>0</td>\n",
              "      <td>1</td>\n",
              "      <td>F</td>\n",
              "      <td>6</td>\n",
              "      <td>1</td>\n",
              "      <td>0</td>\n",
              "      <td>...</td>\n",
              "      <td>0</td>\n",
              "      <td>0</td>\n",
              "      <td>1</td>\n",
              "      <td>N</td>\n",
              "      <td>32</td>\n",
              "      <td>595</td>\n",
              "      <td>595</td>\n",
              "      <td>1</td>\n",
              "      <td>1.000000e-10</td>\n",
              "      <td>6.802395</td>\n",
              "    </tr>\n",
              "    <tr>\n",
              "      <th>1</th>\n",
              "      <td>2</td>\n",
              "      <td>C</td>\n",
              "      <td>15</td>\n",
              "      <td>Carga</td>\n",
              "      <td>0</td>\n",
              "      <td>1</td>\n",
              "      <td>F</td>\n",
              "      <td>2</td>\n",
              "      <td>0</td>\n",
              "      <td>0</td>\n",
              "      <td>...</td>\n",
              "      <td>0</td>\n",
              "      <td>0</td>\n",
              "      <td>1</td>\n",
              "      <td>N</td>\n",
              "      <td>34</td>\n",
              "      <td>230</td>\n",
              "      <td>230</td>\n",
              "      <td>1</td>\n",
              "      <td>-2.302585e+01</td>\n",
              "      <td>6.620073</td>\n",
              "    </tr>\n",
              "  </tbody>\n",
              "</table>\n",
              "<p>2 rows × 51 columns</p>\n",
              "</div>"
            ],
            "text/plain": [
              "   ID_CLIENT CLERK_TYPE  PAYMENT_DAY APPLICATION_SUBMISSION_TYPE  \\\n",
              "0          1          C            5                         Web   \n",
              "1          2          C           15                       Carga   \n",
              "\n",
              "   QUANT_ADDITIONAL_CARDS  POSTAL_ADDRESS_TYPE SEX  MARITAL_STATUS  \\\n",
              "0                       0                    1   F               6   \n",
              "1                       0                    1   F               2   \n",
              "\n",
              "   QUANT_DEPENDANTS  EDUCATION_LEVEL  ... FLAG_CPF FLAG_INCOME_PROOF  PRODUCT  \\\n",
              "0                 1                0  ...        0                 0        1   \n",
              "1                 0                0  ...        0                 0        1   \n",
              "\n",
              "  FLAG_ACSP_RECORD AGE RESIDENCIAL_ZIP_3 PROFESSIONAL_ZIP_3  \\\n",
              "0                N  32               595                595   \n",
              "1                N  34               230                230   \n",
              "\n",
              "  TARGET_LABEL_BAD=1  log_quant_dependants  log_personal_monthly_income  \n",
              "0                  1          1.000000e-10                     6.802395  \n",
              "1                  1         -2.302585e+01                     6.620073  \n",
              "\n",
              "[2 rows x 51 columns]"
            ]
          },
          "execution_count": 9,
          "metadata": {},
          "output_type": "execute_result"
        }
      ],
      "source": [
        "data.head(2)"
      ]
    },
    {
      "cell_type": "code",
      "execution_count": 10,
      "metadata": {},
      "outputs": [
        {
          "data": {
            "image/png": "[encoded data removed]",
            "text/plain": [
              "<Figure size 800x800 with 8 Axes>"
            ]
          },
          "metadata": {},
          "output_type": "display_data"
        }
      ],
      "source": [
        "import matplotlib.pyplot as plt\n",
        "\n",
        "col = 2\n",
        "row = 4\n",
        "\n",
        "fig, axs = plt.subplots(row, col, figsize=(8, 8))\n",
        "columns = 2  # number of columns per row\n",
        "\n",
        "for i in range(4):\n",
        "    for j in range(4):\n",
        "        index = i * columns + j  # calculate the index\n",
        "        if index >= len(variables):  # check if index is out of bounds\n",
        "            break\n",
        "        if variables[index] not in data.keys():  # check if the variable is a valid key\n",
        "            print(f\"Variable {variables[index]} is not a valid key\")\n",
        "            continue\n",
        "        try:\n",
        "            if variables[index] in [\"RESIDENCIAL_CITY\", \"RESIDENCIAL_BOROUGH\"]:\n",
        "                pass\n",
        "            else:\n",
        "                axs[i, j].hist(\n",
        "                    data[variables[index]].dropna(), bins=30, edgecolor=\"black\"\n",
        "                )\n",
        "                axs[i, j].set_title(f\"{variables[index]}\".replace(\"_\", \" \"), fontsize=8)\n",
        "        except:\n",
        "            pass\n",
        "\n",
        "plt.tight_layout(pad=2.0)  # adjust spacing between subplots\n",
        "plt.show()"
      ]
    },
    {
      "cell_type": "code",
      "execution_count": 11,
      "metadata": {},
      "outputs": [
        {
          "name": "stdout",
          "output_type": "stream",
          "text": [
            "['sao paulo', 'rio de janeiro', 'brasilia']\n"
          ]
        }
      ],
      "source": [
        "import re\n",
        "import unicodedata\n",
        "import pandas as pd\n",
        "\n",
        "# Load city names from the CSV file\n",
        "cities_df = pd.read_csv(\"data/brasilian_cities.csv\")\n",
        "\n",
        "# Extract city names from the DataFrame\n",
        "cities_text = cities_df[\"City\"]\n",
        "\n",
        "\n",
        "# Function to remove accents and special characters from text\n",
        "def clean_text(text):\n",
        "    # Remove special characters\n",
        "    text = text.replace(\"*\", \"\")\n",
        "    # Remove accents\n",
        "    text = \"\".join(\n",
        "        c for c in unicodedata.normalize(\"NFD\", text) if not unicodedata.combining(c)\n",
        "    )\n",
        "    return text.strip().lower()\n",
        "\n",
        "\n",
        "# Clean the city names\n",
        "clean_cities = [clean_text(city) for city in cities_text]\n",
        "\n",
        "# Print the clean list of cities\n",
        "print(clean_cities[:3])"
      ]
    },
    {
      "cell_type": "code",
      "execution_count": 12,
      "metadata": {},
      "outputs": [
        {
          "data": {
            "text/plain": [
              "2483"
            ]
          },
          "execution_count": 12,
          "metadata": {},
          "output_type": "execute_result"
        }
      ],
      "source": [
        "data[\"RESIDENCIAL_CITY\"] = data[\"RESIDENCIAL_CITY\"].apply(lambda x: x.lower())\n",
        "len(np.unique(data[\"RESIDENCIAL_CITY\"]))"
      ]
    },
    {
      "cell_type": "code",
      "execution_count": 13,
      "metadata": {},
      "outputs": [],
      "source": [
        "import pandas as pd\n",
        "from fuzzywuzzy import process\n",
        "\n",
        "# Assuming you have a DataFrame called data with a column RESIDENCIAL_CITY\n",
        "# and you want to create a new column called \"closest_city\"\n",
        "\n",
        "# Create a dictionary of city names as keys and their normalized counterparts as values\n",
        "city_mapping = {city: city.lower() for city in clean_cities}\n",
        "\n",
        "\n",
        "# Function to find the closest city from clean_cities for a given city_name\n",
        "def find_closest_city(city_name):\n",
        "    # Use fuzzywuzzy's process.extractOne to find the closest match\n",
        "    closest_match = process.extractOne(city_name.lower(), city_mapping.keys())\n",
        "    # Return the original city name (not the normalized one)\n",
        "    return closest_match[0] if closest_match else None\n",
        "\n",
        "\n",
        "# Apply the find_closest_city function to each element in the RESIDENCIAL_CITY column\n",
        "data[\"closest_city\"] = data[\"RESIDENCIAL_CITY\"].apply(find_closest_city)\n",
        "\n",
        "# Now, you have a new column called 'closest_city' in your DataFrame,\n",
        "# which contains the closest matching city name from clean_cities"
      ]
    },
    {
      "cell_type": "markdown",
      "metadata": {},
      "source": [
        "```There were a lot of cities that had typos on their names, what we did in the code just to show what this data would look like is assign the city we know is well written got from Wikipedia and then plot them. On wikipedia we found 319 cities instead of 2,483 unique values.```"
      ]
    },
    {
      "cell_type": "code",
      "execution_count": 14,
      "metadata": {},
      "outputs": [
        {
          "data": {
            "image/png": "[encoded data removed]",
            "text/plain": [
              "<Figure size 600x1000 with 1 Axes>"
            ]
          },
          "metadata": {},
          "output_type": "display_data"
        }
      ],
      "source": [
        "import matplotlib.pyplot as plt\n",
        "\n",
        "# Assuming data[\"closest_city\"] contains the closest city names\n",
        "\n",
        "# Select the top 30 closest cities\n",
        "top_30_cities = data[\"closest_city\"].value_counts().nlargest(30)\n",
        "\n",
        "# Plotting\n",
        "plt.figure(figsize=(6, 10))  # Adjust the figure size as needed\n",
        "top_30_cities.plot(kind=\"barh\")\n",
        "plt.title(\"Top 30 Residential Cities\", fontsize=14)\n",
        "plt.xlabel(\"Frequency\", fontsize=12)\n",
        "plt.ylabel(\"City\", fontsize=12)\n",
        "plt.show()"
      ]
    },
    {
      "cell_type": "code",
      "execution_count": 15,
      "metadata": {},
      "outputs": [
        {
          "data": {
            "text/plain": [
              "11815"
            ]
          },
          "execution_count": 15,
          "metadata": {},
          "output_type": "execute_result"
        }
      ],
      "source": [
        "len(np.unique(data[\"RESIDENCIAL_BOROUGH\"].apply(lambda x: x.lower())))"
      ]
    },
    {
      "cell_type": "markdown",
      "metadata": {},
      "source": [
        "```We identified the same problem in Boroughs than in cities, mispelled words filled by people, a similar analysis as the one done for cities could be made but it's out of the scope of this assigment```"
      ]
    },
    {
      "cell_type": "markdown",
      "metadata": {},
      "source": [
        "### Exercise 4\n",
        "\n",
        "Geographic segregation means residency data often contains LOTS of information. But there's a problem with `RESIDENCIAL_CITY` and `RESIDENCIAL_BOROUGH`. What is the problem?\n",
        "\n",
        "In any real project, this would be something absolutely worth resolving, but for this exercise, we'll just drop all three string `RESIDENCIAL_` variables.\n",
        "\n",
        "```The problem was exposed in the question 3```"
      ]
    },
    {
      "cell_type": "code",
      "execution_count": 16,
      "metadata": {},
      "outputs": [],
      "source": [
        "# Identify columns containing \"RESIDENCIAL_\" in their name\n",
        "residential_columns = data.filter(regex=\"^RESIDENCIAL_\").columns\n",
        "\n",
        "# Drop the identified columns\n",
        "data = data.drop(columns=residential_columns)"
      ]
    },
    {
      "cell_type": "markdown",
      "metadata": {
        "id": "u8pKcxeLZ6xx"
      },
      "source": [
        "## Model Fitting\n",
        "\n",
        "### Exercise 5\n",
        "\n",
        "First, use `train_test_split` to do an 80/20 split of your data. Then, using the `TARGET_LABEL_BAD` variable, fit a classification model on this data. Optimize with `gridsearch`. Use splines for continuous variables and factors for categoricals.\n",
        "\n",
        "At this point we'd *ideally* be working with 11 variables. However pyGAM can get a little slow with factor features with lots of values + lots of unique values (e.g., 50,000 observations and the *many* values of `RESIDENCIAL_ZIP` takes about 15 minutes on my computer). In that configuration, you should get a model fit in 10-15 seconds.\n",
        "\n",
        "So let's start by fitting a model that also excludes `RESIDENCIAL_ZIP`."
      ]
    },
    {
      "cell_type": "code",
      "execution_count": 17,
      "metadata": {},
      "outputs": [],
      "source": [
        "variables = [\n",
        "    \"QUANT_CARS\",\n",
        "    \"MONTHS_IN_RESIDENCE\",\n",
        "    \"QUANT_BANKING_ACCOUNTS\",\n",
        "    \"AGE\",\n",
        "    \"SEX\",\n",
        "    \"MARITAL_STATUS\",\n",
        "    \"OCCUPATION_TYPE\",\n",
        "    \"log_quant_dependants\",\n",
        "    \"log_personal_monthly_income\",\n",
        "]"
      ]
    },
    {
      "cell_type": "code",
      "execution_count": 18,
      "metadata": {},
      "outputs": [],
      "source": [
        "def fix_sex(x):\n",
        "    if x == \" \" or x == \"N\":\n",
        "        x = np.nan\n",
        "    return x\n",
        "\n",
        "\n",
        "data[\"SEX\"] = data[\"SEX\"].apply(lambda x: fix_sex(x))"
      ]
    },
    {
      "cell_type": "code",
      "execution_count": 19,
      "metadata": {},
      "outputs": [
        {
          "data": {
            "text/html": [
              "<div>\n",
              "<style scoped>\n",
              "    .dataframe tbody tr th:only-of-type {\n",
              "        vertical-align: middle;\n",
              "    }\n",
              "\n",
              "    .dataframe tbody tr th {\n",
              "        vertical-align: top;\n",
              "    }\n",
              "\n",
              "    .dataframe thead th {\n",
              "        text-align: right;\n",
              "    }\n",
              "</style>\n",
              "<table border=\"1\" class=\"dataframe\">\n",
              "  <thead>\n",
              "    <tr style=\"text-align: right;\">\n",
              "      <th></th>\n",
              "      <th>QUANT_CARS</th>\n",
              "      <th>MONTHS_IN_RESIDENCE</th>\n",
              "      <th>QUANT_BANKING_ACCOUNTS</th>\n",
              "      <th>AGE</th>\n",
              "      <th>MARITAL_STATUS</th>\n",
              "      <th>OCCUPATION_TYPE</th>\n",
              "      <th>log_quant_dependants</th>\n",
              "      <th>log_personal_monthly_income</th>\n",
              "      <th>TARGET_LABEL_BAD=1</th>\n",
              "      <th>SEX_M</th>\n",
              "    </tr>\n",
              "  </thead>\n",
              "  <tbody>\n",
              "    <tr>\n",
              "      <th>0</th>\n",
              "      <td>0</td>\n",
              "      <td>15.0</td>\n",
              "      <td>0</td>\n",
              "      <td>32</td>\n",
              "      <td>6</td>\n",
              "      <td>4.0</td>\n",
              "      <td>1.000000e-10</td>\n",
              "      <td>6.802395</td>\n",
              "      <td>1</td>\n",
              "      <td>0</td>\n",
              "    </tr>\n",
              "    <tr>\n",
              "      <th>1</th>\n",
              "      <td>0</td>\n",
              "      <td>1.0</td>\n",
              "      <td>0</td>\n",
              "      <td>34</td>\n",
              "      <td>2</td>\n",
              "      <td>4.0</td>\n",
              "      <td>-2.302585e+01</td>\n",
              "      <td>6.620073</td>\n",
              "      <td>1</td>\n",
              "      <td>0</td>\n",
              "    </tr>\n",
              "    <tr>\n",
              "      <th>2</th>\n",
              "      <td>0</td>\n",
              "      <td>NaN</td>\n",
              "      <td>0</td>\n",
              "      <td>27</td>\n",
              "      <td>2</td>\n",
              "      <td>NaN</td>\n",
              "      <td>-2.302585e+01</td>\n",
              "      <td>6.214608</td>\n",
              "      <td>0</td>\n",
              "      <td>0</td>\n",
              "    </tr>\n",
              "  </tbody>\n",
              "</table>\n",
              "</div>"
            ],
            "text/plain": [
              "   QUANT_CARS  MONTHS_IN_RESIDENCE  QUANT_BANKING_ACCOUNTS  AGE  \\\n",
              "0           0                 15.0                       0   32   \n",
              "1           0                  1.0                       0   34   \n",
              "2           0                  NaN                       0   27   \n",
              "\n",
              "   MARITAL_STATUS  OCCUPATION_TYPE  log_quant_dependants  \\\n",
              "0               6              4.0          1.000000e-10   \n",
              "1               2              4.0         -2.302585e+01   \n",
              "2               2              NaN         -2.302585e+01   \n",
              "\n",
              "   log_personal_monthly_income  TARGET_LABEL_BAD=1  SEX_M  \n",
              "0                     6.802395                   1      0  \n",
              "1                     6.620073                   1      0  \n",
              "2                     6.214608                   0      0  "
            ]
          },
          "execution_count": 19,
          "metadata": {},
          "output_type": "execute_result"
        }
      ],
      "source": [
        "variables_to_keep = variables + [\"TARGET_LABEL_BAD=1\"]\n",
        "X = data[variables_to_keep]\n",
        "X = pd.get_dummies(X, columns=[\"SEX\"], drop_first=True)\n",
        "X[\"SEX_M\"] = X[\"SEX_M\"].apply(lambda x: int(x))\n",
        "X.head(3)"
      ]
    },
    {
      "cell_type": "code",
      "execution_count": 20,
      "metadata": {},
      "outputs": [
        {
          "data": {
            "text/plain": [
              "QUANT_CARS                        0\n",
              "MONTHS_IN_RESIDENCE            3777\n",
              "QUANT_BANKING_ACCOUNTS            0\n",
              "AGE                               0\n",
              "MARITAL_STATUS                    0\n",
              "OCCUPATION_TYPE                7313\n",
              "log_quant_dependants              0\n",
              "log_personal_monthly_income       0\n",
              "TARGET_LABEL_BAD=1                0\n",
              "SEX_M                             0\n",
              "dtype: int64"
            ]
          },
          "execution_count": 20,
          "metadata": {},
          "output_type": "execute_result"
        }
      ],
      "source": [
        "X.isna().sum()"
      ]
    },
    {
      "cell_type": "code",
      "execution_count": 21,
      "metadata": {},
      "outputs": [],
      "source": [
        "X.dropna(inplace=True)"
      ]
    },
    {
      "cell_type": "code",
      "execution_count": 22,
      "metadata": {},
      "outputs": [
        {
          "name": "stdout",
          "output_type": "stream",
          "text": [
            "Index(['QUANT_CARS', 'MONTHS_IN_RESIDENCE', 'QUANT_BANKING_ACCOUNTS', 'AGE',\n",
            "       'MARITAL_STATUS', 'OCCUPATION_TYPE', 'log_quant_dependants',\n",
            "       'log_personal_monthly_income', 'TARGET_LABEL_BAD=1', 'SEX_M'],\n",
            "      dtype='object')\n"
          ]
        }
      ],
      "source": [
        "from sklearn.model_selection import train_test_split\n",
        "\n",
        "from pygam import LogisticGAM, s, f\n",
        "\n",
        "y = np.array(X[\"TARGET_LABEL_BAD=1\"])\n",
        "print(X.columns)\n",
        "X = np.array(X.drop(columns=\"TARGET_LABEL_BAD=1\"))\n",
        "\n",
        "\n",
        "X_train, X_test, y_train, y_test = train_test_split(\n",
        "    X, y, test_size=0.2, random_state=42\n",
        ")"
      ]
    },
    {
      "cell_type": "code",
      "execution_count": 23,
      "metadata": {},
      "outputs": [
        {
          "name": "stderr",
          "output_type": "stream",
          "text": [
            "  0% (0 of 11) |                         | Elapsed Time: 0:00:00 ETA:  --:--:--\n",
            "  9% (1 of 11) |##                       | Elapsed Time: 0:00:12 ETA:   0:02:07\n",
            " 18% (2 of 11) |####                     | Elapsed Time: 0:00:21 ETA:   0:01:34\n",
            " 27% (3 of 11) |######                   | Elapsed Time: 0:00:29 ETA:   0:01:17\n",
            " 36% (4 of 11) |#########                | Elapsed Time: 0:00:37 ETA:   0:01:04\n",
            " 45% (5 of 11) |###########              | Elapsed Time: 0:00:44 ETA:   0:00:53\n",
            " 54% (6 of 11) |#############            | Elapsed Time: 0:00:51 ETA:   0:00:42\n",
            " 63% (7 of 11) |###############          | Elapsed Time: 0:00:56 ETA:   0:00:32\n",
            " 72% (8 of 11) |##################       | Elapsed Time: 0:01:03 ETA:   0:00:23\n",
            " 81% (9 of 11) |####################     | Elapsed Time: 0:01:10 ETA:   0:00:15\n",
            " 90% (10 of 11) |#####################   | Elapsed Time: 0:01:17 ETA:   0:00:07\n",
            "100% (11 of 11) |########################| Elapsed Time: 0:01:25 Time:  0:01:25\n"
          ]
        }
      ],
      "source": [
        "gam = LogisticGAM(\n",
        "    s(0)  # quant cars\n",
        "    + s(1)  # month of residence\n",
        "    + s(2)  # quant banking accounts\n",
        "    + s(3)  # age\n",
        "    + f(4)  # Marital status\n",
        "    + f(5)  # occupation type\n",
        "    + s(6)  # log dependants\n",
        "    + s(7)  # log income\n",
        "    + f(8)  # sex_m\n",
        ").gridsearch(X_train, y_train)"
      ]
    },
    {
      "cell_type": "markdown",
      "metadata": {},
      "source": [
        "### Exercise 6\n",
        "\n",
        "Create a (naive) confusion matrix using the predicted values you get with `predict()` on your test data. Our stakeholder cares about two things: \n",
        "\n",
        "- maximizing the number of people to whom they extend credit, and\n",
        "- the false negative rate (the share of people identified as \"safe bets\" who aren't, and who thus default).\n",
        "\n",
        "How many \"good bets\" does the model predict (true negatives), and what is the [False Omission Rate](https://en.wikipedia.org/wiki/False_omission_rate) (the share of predicted negatives that are false negatives)?\n",
        "\n",
        "Looking at the confusion matrix, how did the model maximize accuracy?"
      ]
    },
    {
      "cell_type": "code",
      "execution_count": 24,
      "metadata": {},
      "outputs": [
        {
          "data": {
            "text/html": [
              "<div>\n",
              "<style scoped>\n",
              "    .dataframe tbody tr th:only-of-type {\n",
              "        vertical-align: middle;\n",
              "    }\n",
              "\n",
              "    .dataframe tbody tr th {\n",
              "        vertical-align: top;\n",
              "    }\n",
              "\n",
              "    .dataframe thead th {\n",
              "        text-align: right;\n",
              "    }\n",
              "</style>\n",
              "<table border=\"1\" class=\"dataframe\">\n",
              "  <thead>\n",
              "    <tr style=\"text-align: right;\">\n",
              "      <th></th>\n",
              "      <th>Predicted Negative</th>\n",
              "      <th>Predicted Positive</th>\n",
              "    </tr>\n",
              "  </thead>\n",
              "  <tbody>\n",
              "    <tr>\n",
              "      <th>Actual Negative</th>\n",
              "      <td>6051</td>\n",
              "      <td>2</td>\n",
              "    </tr>\n",
              "    <tr>\n",
              "      <th>Actual Positive</th>\n",
              "      <td>2097</td>\n",
              "      <td>3</td>\n",
              "    </tr>\n",
              "  </tbody>\n",
              "</table>\n",
              "</div>"
            ],
            "text/plain": [
              "                 Predicted Negative  Predicted Positive\n",
              "Actual Negative                6051                   2\n",
              "Actual Positive                2097                   3"
            ]
          },
          "execution_count": 24,
          "metadata": {},
          "output_type": "execute_result"
        }
      ],
      "source": [
        "from sklearn.metrics import confusion_matrix\n",
        "\n",
        "y_pred = gam.predict(X_test)\n",
        "\n",
        "conf_mat = confusion_matrix(y_test, y_pred)\n",
        "\n",
        "pd.DataFrame(\n",
        "    conf_mat,\n",
        "    index=[\"Actual Negative\", \"Actual Positive\"],\n",
        "    columns=[\"Predicted Negative\", \"Predicted Positive\"],\n",
        ")"
      ]
    },
    {
      "cell_type": "code",
      "execution_count": 25,
      "metadata": {},
      "outputs": [
        {
          "name": "stdout",
          "output_type": "stream",
          "text": [
            "The false omission rate is: 0.2574\n"
          ]
        }
      ],
      "source": [
        "false_omission_rate = conf_mat[1][0] / conf_mat[:, 0].sum()\n",
        "\n",
        "print(f\"The false omission rate is: {false_omission_rate:.4f}\")"
      ]
    },
    {
      "cell_type": "markdown",
      "metadata": {},
      "source": [
        "### Exercise 7\n",
        "\n",
        "Suppose your stakeholder wants to minimize false negative rates. How low of a [False Omission Rate](https://en.wikipedia.org/wiki/False_omission_rate) (the share of predicted negatives that are false negatives) can you get (assuming more than, say, 10 true negatives), and how many \"good bets\" (true negatives) do they get at that risk level?\n",
        "\n",
        "Hint: use `predict_proba()`\n",
        "\n",
        "Note: One *can* use class weights to shift the emphasis of the original model fitting, but for the moment let's just play with `predict_proba()` and thresholds."
      ]
    },
    {
      "cell_type": "code",
      "execution_count": 34,
      "metadata": {},
      "outputs": [
        {
          "name": "stdout",
          "output_type": "stream",
          "text": [
            "With a threshold of 0.120000 the False Omission rate is nan and the TN is 0\n",
            "With a threshold of 0.125000 the False Omission rate is 0.0000 and the TN is 1\n",
            "With a threshold of 0.130000 the False Omission rate is 0.0000 and the TN is 2\n",
            "With a threshold of 0.135000 the False Omission rate is 0.0000 and the TN is 10\n",
            "With a threshold of 0.140000 the False Omission rate is 0.1176 and the TN is 15\n",
            "With a threshold of 0.145000 the False Omission rate is 0.1892 and the TN is 30\n"
          ]
        }
      ],
      "source": [
        "def false_omission(threshold):\n",
        "    probs = gam.predict_proba(X_test)\n",
        "    y_pred = list(map(int, gam.predict_proba(X_test) > threshold))\n",
        "    conf_mat = confusion_matrix(y_test, y_pred)\n",
        "    false_omission_rate = conf_mat[1][0] / conf_mat[:, 0].sum()\n",
        "    return false_omission_rate, conf_mat[0][0]\n",
        "\n",
        "\n",
        "for i in np.arange(0.12, 0.15, 0.005).tolist():\n",
        "    a, b = false_omission(i)\n",
        "    print(\n",
        "        f\"With a threshold of {i:.6f} the False Omission rate is {a:.4f} and the TN is {b:,.0f}\"\n",
        "    )"
      ]
    },
    {
      "cell_type": "code",
      "execution_count": 37,
      "metadata": {},
      "outputs": [
        {
          "data": {
            "text/html": [
              "<div>\n",
              "<style scoped>\n",
              "    .dataframe tbody tr th:only-of-type {\n",
              "        vertical-align: middle;\n",
              "    }\n",
              "\n",
              "    .dataframe tbody tr th {\n",
              "        vertical-align: top;\n",
              "    }\n",
              "\n",
              "    .dataframe thead th {\n",
              "        text-align: right;\n",
              "    }\n",
              "</style>\n",
              "<table border=\"1\" class=\"dataframe\">\n",
              "  <thead>\n",
              "    <tr style=\"text-align: right;\">\n",
              "      <th></th>\n",
              "      <th>Predicted Negative</th>\n",
              "      <th>Predicted Positive</th>\n",
              "    </tr>\n",
              "  </thead>\n",
              "  <tbody>\n",
              "    <tr>\n",
              "      <th>Actual Negative</th>\n",
              "      <td>10</td>\n",
              "      <td>6043</td>\n",
              "    </tr>\n",
              "    <tr>\n",
              "      <th>Actual Positive</th>\n",
              "      <td>0</td>\n",
              "      <td>2100</td>\n",
              "    </tr>\n",
              "  </tbody>\n",
              "</table>\n",
              "</div>"
            ],
            "text/plain": [
              "                 Predicted Negative  Predicted Positive\n",
              "Actual Negative                  10                6043\n",
              "Actual Positive                   0                2100"
            ]
          },
          "execution_count": 37,
          "metadata": {},
          "output_type": "execute_result"
        }
      ],
      "source": [
        "probs = gam.predict_proba(X_test)\n",
        "y_pred = list(map(int, gam.predict_proba(X_test) > 0.135))\n",
        "conf_mat = confusion_matrix(y_test, y_pred)\n",
        "\n",
        "pd.DataFrame(\n",
        "    conf_mat,\n",
        "    index=[\"Actual Negative\", \"Actual Positive\"],\n",
        "    columns=[\"Predicted Negative\", \"Predicted Positive\"],\n",
        ")"
      ]
    },
    {
      "cell_type": "markdown",
      "metadata": {},
      "source": [
        "### Exercise 8\n",
        "\n",
        "If the stakeholder wants to maximize true negatives and can tolerate a false omission rate of 19%, how many true negatives will they be able to enroll?"
      ]
    },
    {
      "cell_type": "code",
      "execution_count": 35,
      "metadata": {},
      "outputs": [
        {
          "name": "stdout",
          "output_type": "stream",
          "text": [
            "With a threshold of 0.230400 the False Omission rate is 0.1893 and the TN is 2,163\n",
            "With a threshold of 0.230450 the False Omission rate is 0.1892 and the TN is 2,164\n",
            "With a threshold of 0.230500 the False Omission rate is 0.1892 and the TN is 2,164\n",
            "With a threshold of 0.230550 the False Omission rate is 0.1897 and the TN is 2,166\n",
            "With a threshold of 0.230600 the False Omission rate is 0.1903 and the TN is 2,166\n"
          ]
        }
      ],
      "source": [
        "def false_omission(threshold):\n",
        "    probs = gam.predict_proba(X_test)\n",
        "    y_pred = list(map(int, gam.predict_proba(X_test) > threshold))\n",
        "    conf_mat = confusion_matrix(y_test, y_pred)\n",
        "    false_omission_rate = conf_mat[1][0] / conf_mat[:, 0].sum()\n",
        "    return false_omission_rate, conf_mat[0][0]\n",
        "\n",
        "\n",
        "for i in np.arange(0.2304, 0.2306, 0.00005).tolist():\n",
        "    a, b = false_omission(i)\n",
        "    print(\n",
        "        f\"With a threshold of {i:.6f} the False Omission rate is {a:.4f} and the TN is {b:,.0f}\"\n",
        "    )"
      ]
    },
    {
      "cell_type": "markdown",
      "metadata": {},
      "source": [
        "```2,166 are the True Negatives that will be ble to enroll```"
      ]
    },
    {
      "cell_type": "markdown",
      "metadata": {},
      "source": [
        "## Let's See This Interpretability!\n",
        "\n",
        "We're using GAMs for their interpretability, so let's use it!"
      ]
    },
    {
      "cell_type": "markdown",
      "metadata": {
        "id": "tbexO4ZqZ9bd"
      },
      "source": [
        "### Exercise 9\n",
        "\n",
        "\n",
        "Plot the partial dependence plots for all your continuous factors with 95% confidence intervals (I have three, at this stage).\n",
        "\n",
        "If you get an error like this when generating `partial_dependence` errors:\n",
        "\n",
        "```python\n",
        "----> pdep, confi = gam.partial_dependence(term=i, X=XX, width=0.95)\n",
        "\n",
        "...\n",
        "ValueError: X data is out of domain for categorical feature 4. Expected data on [1.0, 2.0], but found data on [0.0, 0.0]\n",
        "```\n",
        "\n",
        "it's because you have a variable set as a factor that doesn't have values of `0`. pyGAM is assuming `0` is the excluded category. Just recode the variable to ensure 0 is used to identify one of the categories."
      ]
    },
    {
      "cell_type": "code",
      "execution_count": 28,
      "metadata": {},
      "outputs": [
        {
          "data": {
            "image/png": "[encoded data removed]",
            "text/plain": [
              "<Figure size 1200x400 with 4 Axes>"
            ]
          },
          "metadata": {},
          "output_type": "display_data"
        }
      ],
      "source": [
        "# Index(['QUANT_CARS', 'MONTHS_IN_RESIDENCE', 'QUANT_BANKING_ACCOUNTS', 'AGE',\n",
        "#        'MARITAL_STATUS', 'OCCUPATION_TYPE', 'log_quant_dependants',\n",
        "#        'log_personal_monthly_income', 'TARGET_LABEL_BAD=1', 'SEX_M'],\n",
        "\n",
        "fig, axs = plt.subplots(1, 4, figsize=(12, 4))\n",
        "titles = [\"MARITAL_STATUS\", \"OCCUPATION_TYPE\", \"SEX_M\", \"AGE\"]\n",
        "terms = [4, 5, 8, 3]\n",
        "\n",
        "for i, ax in enumerate(axs):\n",
        "    XX = gam.generate_X_grid(term=terms[i])\n",
        "    pdep, confi = gam.partial_dependence(term=terms[i], width=0.95)\n",
        "\n",
        "    ax.plot(XX[:, terms[i]], pdep)\n",
        "    ax.plot(XX[:, terms[i]], confi, c=\"r\", ls=\"--\")\n",
        "    ax.set_title(titles[i])"
      ]
    },
    {
      "cell_type": "markdown",
      "metadata": {},
      "source": [
        "### Exercise 10\n",
        "\n",
        "How does the partial correlation with respect to age look?"
      ]
    },
    {
      "cell_type": "markdown",
      "metadata": {},
      "source": [
        "### Exercise 11\n",
        "\n",
        "Refit your model, but this time impose [monotonicity or concavity/convexity](https://pygam.readthedocs.io/en/latest/notebooks/tour_of_pygam.html#Penalties-/-Constraints) on the relationship between age and credit risk (which makes more sense to you?). Fit the model and plot the new partial dependence."
      ]
    },
    {
      "cell_type": "markdown",
      "metadata": {},
      "source": [
        "### Exercise 12\n",
        "\n",
        "Functional form constraints are often about fairness or meeting regulatory requirements, but they can also prevent overfitting.\n",
        "\n",
        "Does this change the number of \"true negatives\" you can enroll below a false omission rate of 19%?"
      ]
    },
    {
      "cell_type": "markdown",
      "metadata": {},
      "source": [
        "### Exercise 13\n",
        "\n",
        "In the preceding exercises, we allowed pyGAM to choose its own smoothing parameters / coefficient penalties. This makes life easy, but it isn't always optimal, especially because when it does so, it picks the same smoothing penalty (the `lambda` in `.summary()`) for all terms.\n",
        "\n",
        "(If you haven't seen them let, penalities are designed to limit overfitting by, basically, \"penalizing\" big coefficients on different terms. This tends to push models towards smoother fits.)\n",
        "\n",
        "[To get around this, we can do a grid or random search.](https://pygam.readthedocs.io/en/latest/notebooks/quick_start.html#Automatically-tune-the-model) This is definitely a little slow, but let's give it a try!\n",
        "\n",
        "Then following the model given in the docs linked above, let's do a random search. Make sure your initial random points has a shape of `100 x (the number of terms in your model)`."
      ]
    },
    {
      "cell_type": "markdown",
      "metadata": {},
      "source": [
        "### Exercise 14\n",
        "\n",
        "How many true negatives can you get now at a less than 19% False Omission Rate?"
      ]
    },
    {
      "cell_type": "markdown",
      "metadata": {},
      "source": [
        "### Exercise 15\n",
        "\n",
        "Add an interaction term between age and personal income."
      ]
    },
    {
      "cell_type": "markdown",
      "metadata": {},
      "source": [
        "### Exercise 16\n",
        "\n",
        "Now visualize the [partial dependence interaction term.](https://pygam.readthedocs.io/en/latest/notebooks/tour_of_pygam.html#Terms-and-Interactions)"
      ]
    },
    {
      "cell_type": "markdown",
      "metadata": {},
      "source": [
        "### Exercise 17\n",
        "\n",
        "Finally, another popular interpretable model is the `ExplainableBoostingClassifier`. You can learn more [about it here](https://interpret.ml/docs/ebm.html), though how much sense it will make to you may be limited if you aren't familiar with gradient boosting yet. Still, at least one of your classmates prefers it to pyGAM, so give it a try using this code:\n",
        "\n",
        "\n",
        "```python\n",
        "from interpret.glassbox import ExplainableBoostingClassifier\n",
        "from interpret import show\n",
        "import warnings\n",
        "\n",
        "ebm = ExplainableBoostingClassifier()\n",
        "ebm.fit(X_train, y_train)\n",
        "\n",
        "with warnings.catch_warnings():\n",
        "   warnings.simplefilter(\"ignore\")\n",
        "\n",
        "   ebm_global = ebm.explain_global()\n",
        "   show(ebm_global)\n",
        "\n",
        "   ebm_local = ebm.explain_local(X_train, y_train)\n",
        "   show(ebm_local)\n",
        "```"
      ]
    }
  ],
  "metadata": {
    "colab": {
      "provenance": []
    },
    "kernelspec": {
      "display_name": "Python 3",
      "name": "python3"
    },
    "language_info": {
      "codemirror_mode": {
        "name": "ipython",
        "version": 3
      },
      "file_extension": ".py",
      "mimetype": "text/x-python",
      "name": "python",
      "nbconvert_exporter": "python",
      "pygments_lexer": "ipython3",
      "version": "3.11.5"
    }
  },
  "nbformat": 4,
  "nbformat_minor": 0
}
